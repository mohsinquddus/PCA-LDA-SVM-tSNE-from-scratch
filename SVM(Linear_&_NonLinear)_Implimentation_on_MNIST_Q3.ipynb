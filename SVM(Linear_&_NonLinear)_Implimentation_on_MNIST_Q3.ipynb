{
  "nbformat": 4,
  "nbformat_minor": 0,
  "metadata": {
    "colab": {
      "name": "SVM(Linear & NonLinear) Implimentation on MNIST.ipynb",
      "provenance": [],
      "collapsed_sections": []
    },
    "kernelspec": {
      "name": "python3",
      "display_name": "Python 3"
    }
  },
  "cells": [
    {
      "cell_type": "code",
      "metadata": {
        "id": "EtqTftw_c33a",
        "colab": {
          "base_uri": "https://localhost:8080/"
        },
        "outputId": "92271a76-11e1-427c-8009-3fe5e9dde9b2"
      },
      "source": [
        "!pip install idx2numpy\n",
        "!pip install python_mnist"
      ],
      "execution_count": 1,
      "outputs": [
        {
          "output_type": "stream",
          "text": [
            "Collecting idx2numpy\n",
            "  Downloading https://files.pythonhosted.org/packages/7e/6b/80628f6cc2f44d80b27f1ef7b57b257ed4c73766113b77d13ad110c091b4/idx2numpy-1.2.3.tar.gz\n",
            "Requirement already satisfied: numpy in /usr/local/lib/python3.6/dist-packages (from idx2numpy) (1.19.5)\n",
            "Requirement already satisfied: six in /usr/local/lib/python3.6/dist-packages (from idx2numpy) (1.15.0)\n",
            "Building wheels for collected packages: idx2numpy\n",
            "  Building wheel for idx2numpy (setup.py) ... \u001b[?25l\u001b[?25hdone\n",
            "  Created wheel for idx2numpy: filename=idx2numpy-1.2.3-cp36-none-any.whl size=7905 sha256=238ac14274114ed6f2d22765b22c8d7ff9a04db124afa0e15a502db67258d603\n",
            "  Stored in directory: /root/.cache/pip/wheels/7a/c1/da/284ce80a748fab898b8d1fa95468a386e7cf3b81da18511f9d\n",
            "Successfully built idx2numpy\n",
            "Installing collected packages: idx2numpy\n",
            "Successfully installed idx2numpy-1.2.3\n",
            "Collecting python_mnist\n",
            "  Downloading https://files.pythonhosted.org/packages/64/f0/6086b84427c3bf156ec0b3c2f9dfc1d770b35f942b9ed8a64f5229776a80/python_mnist-0.7-py2.py3-none-any.whl\n",
            "Installing collected packages: python-mnist\n",
            "Successfully installed python-mnist-0.7\n"
          ],
          "name": "stdout"
        }
      ]
    },
    {
      "cell_type": "code",
      "metadata": {
        "id": "Jy85SFxXaT4e"
      },
      "source": [
        "import idx2numpy\n",
        "import matplotlib.pyplot as plt\n",
        "from sklearn import svm\n",
        "import numpy as np\n",
        "from mnist import MNIST\n",
        "from google.colab import drive"
      ],
      "execution_count": 23,
      "outputs": []
    },
    {
      "cell_type": "code",
      "metadata": {
        "id": "VbOhfnzLavM6",
        "colab": {
          "base_uri": "https://localhost:8080/"
        },
        "outputId": "d08c6b94-8893-4d71-cf91-0c0591fee07a"
      },
      "source": [
        "drive.mount('/content/drive')"
      ],
      "execution_count": 3,
      "outputs": [
        {
          "output_type": "stream",
          "text": [
            "Mounted at /content/drive\n"
          ],
          "name": "stdout"
        }
      ]
    },
    {
      "cell_type": "code",
      "metadata": {
        "id": "V27DXKhTbSgO",
        "colab": {
          "base_uri": "https://localhost:8080/"
        },
        "outputId": "5abcd51b-e934-4bcc-e152-9bce30787105"
      },
      "source": [
        "train_data=idx2numpy.convert_from_file('/content/drive/My Drive/MNIST/train-images-idx3-ubyte')\n",
        "train_data = np.reshape(train_data,(60000,28*28))\n",
        "train_label = idx2numpy.convert_from_file('/content/drive/My Drive/MNIST/train-labels-idx1-ubyte')\n",
        "print(train_data.shape)\n",
        "print(train_label.shape)"
      ],
      "execution_count": 4,
      "outputs": [
        {
          "output_type": "stream",
          "text": [
            "(60000, 784)\n",
            "(60000,)\n"
          ],
          "name": "stdout"
        }
      ]
    },
    {
      "cell_type": "code",
      "metadata": {
        "id": "2g_LGJygcPO3",
        "colab": {
          "base_uri": "https://localhost:8080/"
        },
        "outputId": "e2b2a92b-3072-4d8a-89f9-5ff2485a4616"
      },
      "source": [
        "test_data=idx2numpy.convert_from_file('/content/drive/My Drive/MNIST/t10k-images-idx3-ubyte')\n",
        "test_data = np.reshape(test_data,(10000,28*28))\n",
        "test_label = idx2numpy.convert_from_file('/content/drive/My Drive/MNIST/t10k-labels-idx1-ubyte')\n",
        "print(test_data.shape)\n",
        "print(test_label.shape)"
      ],
      "execution_count": 5,
      "outputs": [
        {
          "output_type": "stream",
          "text": [
            "(10000, 784)\n",
            "(10000,)\n"
          ],
          "name": "stdout"
        }
      ]
    },
    {
      "cell_type": "code",
      "metadata": {
        "id": "QBMeHs6Gc-hJ"
      },
      "source": [
        "mnist_loader = MNIST('/content/drive/My Drive/MNIST')\n",
        "train_data, train_label = mnist_loader.load_training()\n",
        "test_data, test_label = mnist_loader.load_testing()\n",
        "train_data = np.array(train_data)\n",
        "train_label = np.array(train_label)\n",
        "test_data = np.array(test_data)\n",
        "test_label = np.array(test_label)"
      ],
      "execution_count": 6,
      "outputs": []
    },
    {
      "cell_type": "code",
      "metadata": {
        "id": "E21M0-HjdGyb"
      },
      "source": [
        "train_data[train_label == 1].shape\n"
      ],
      "execution_count": null,
      "outputs": []
    },
    {
      "cell_type": "code",
      "metadata": {
        "id": "0t22z5f_dM4j",
        "colab": {
          "base_uri": "https://localhost:8080/"
        },
        "outputId": "9f557322-cb25-4702-b732-f27ae31a77ea"
      },
      "source": [
        "#Gathering only 5,8 labels of data\n",
        "nx_train=[]\n",
        "ny_train=[]\n",
        "digit_1 = 0\n",
        "for i in range(len(train_data)):\n",
        "    if train_label[i] == 5 or train_label[i] == 8:\n",
        "        nx_train.append(train_data[i])\n",
        "        ny_train.append(train_label[i])\n",
        "        digit_1 += 1\n",
        "\n",
        "nx_train=np.array(nx_train)\n",
        "ny_train=np.array(ny_train)\n",
        "\n",
        "print(nx_train.shape)\n",
        "print(ny_train.shape)\n",
        "print(ny_train[0:10])"
      ],
      "execution_count": 7,
      "outputs": [
        {
          "output_type": "stream",
          "text": [
            "(11272, 784)\n",
            "(11272,)\n",
            "[5 5 8 8 5 8 8 5 8 5]\n"
          ],
          "name": "stdout"
        }
      ]
    },
    {
      "cell_type": "code",
      "metadata": {
        "id": "aLQo2QbadM7x",
        "colab": {
          "base_uri": "https://localhost:8080/"
        },
        "outputId": "e088c3cd-5973-4244-b5d2-aa343f21b113"
      },
      "source": [
        "nx_test=[]\n",
        "ny_test=[]\n",
        "digit_1 = 0\n",
        "for i in range(len(test_data)):\n",
        "    if test_label[i] == 5 or test_label[i] == 8:\n",
        "        nx_test.append(test_data[i])\n",
        "        ny_test.append(test_label[i])\n",
        "        digit_1 += 1\n",
        "\n",
        "nx_test=np.array(nx_test)\n",
        "ny_test=np.array(ny_test)\n",
        "\n",
        "print(nx_test.shape)\n",
        "print(ny_test.shape)\n",
        "print(ny_test[0:10])"
      ],
      "execution_count": 8,
      "outputs": [
        {
          "output_type": "stream",
          "text": [
            "(1866, 784)\n",
            "(1866,)\n",
            "[5 5 5 5 5 5 5 8 8 5]\n"
          ],
          "name": "stdout"
        }
      ]
    },
    {
      "cell_type": "code",
      "metadata": {
        "id": "UJQV_JEIdM-s"
      },
      "source": [
        "X=nx_train/255.0\n",
        "Y=ny_train\n",
        "X_test=nx_test/255.0\n",
        "Y_test=ny_test"
      ],
      "execution_count": 9,
      "outputs": []
    },
    {
      "cell_type": "code",
      "metadata": {
        "id": "HU83ztAgn5of",
        "colab": {
          "base_uri": "https://localhost:8080/"
        },
        "outputId": "d6556d00-daa4-4435-9b62-10e5f0d2c3db"
      },
      "source": [
        "print('Traning linear SVM...')\n",
        "linear_svc=svm.SVC(kernel='linear',gamma='auto', C=5).fit(X,Y)"
      ],
      "execution_count": 10,
      "outputs": [
        {
          "output_type": "stream",
          "text": [
            "Traning linear SVM...\n"
          ],
          "name": "stdout"
        }
      ]
    },
    {
      "cell_type": "code",
      "metadata": {
        "id": "MSMaoIYOFQNI",
        "colab": {
          "base_uri": "https://localhost:8080/"
        },
        "outputId": "49606533-7f03-45cd-b6d1-97257af8d2ff"
      },
      "source": [
        "print('Traning Non linear SVM...')\n",
        "rbf_svc = svm.SVC(kernel='rbf',gamma='auto', C=5).fit(X,Y)\n",
        "print('Done')"
      ],
      "execution_count": 11,
      "outputs": [
        {
          "output_type": "stream",
          "text": [
            "Traning Non linear SVM...\n",
            "Done\n"
          ],
          "name": "stdout"
        }
      ]
    },
    {
      "cell_type": "code",
      "metadata": {
        "id": "W7jpb1XndNAs",
        "colab": {
          "base_uri": "https://localhost:8080/"
        },
        "outputId": "5f15d452-d2a5-48ea-9521-68b7e1a773a8"
      },
      "source": [
        "print('Pridicting...')\n",
        "y_predict_linear=linear_svc.predict(X_test)\n",
        "y_predict_nonlinear=rbf_svc.predict(X_test)\n",
        "print('Done')\n"
      ],
      "execution_count": 12,
      "outputs": [
        {
          "output_type": "stream",
          "text": [
            "Pridicting...\n",
            "Done\n"
          ],
          "name": "stdout"
        }
      ]
    },
    {
      "cell_type": "code",
      "metadata": {
        "id": "IdNm4LiVyApr",
        "colab": {
          "base_uri": "https://localhost:8080/"
        },
        "outputId": "d16a1701-c117-4550-d161-0275fb62e26d"
      },
      "source": [
        "print(y_predict_nonlinear[0:15])\n",
        "print(Y_test[0:15])"
      ],
      "execution_count": 13,
      "outputs": [
        {
          "output_type": "stream",
          "text": [
            "[5 5 5 5 5 5 5 8 8 5 8 5 5 8 5]\n",
            "[5 5 5 5 5 5 5 8 8 5 8 5 5 8 5]\n"
          ],
          "name": "stdout"
        }
      ]
    },
    {
      "cell_type": "code",
      "metadata": {
        "id": "GjbkXSuKmBhK",
        "colab": {
          "base_uri": "https://localhost:8080/"
        },
        "outputId": "7796d318-9b45-40dd-ec4e-df5d6ca8232f"
      },
      "source": [
        "from sklearn.metrics import accuracy_score\n",
        "print(\"Accuracy rate of Linear SVM:\",accuracy_score(y_predict_linear,Y_test)*100,\"%\")\n",
        "print(\"Accuracy rate Non Linear SVM:\",accuracy_score(y_predict_nonlinear,Y_test)*100,\"%\")\n",
        "# The accuracy of non Linear Gaussian RBF kernel is slightly higher then the linear svm"
      ],
      "execution_count": 14,
      "outputs": [
        {
          "output_type": "stream",
          "text": [
            "Accuracy rate of Linear SVM: 95.28403001071811 %\n",
            "Accuracy rate Non Linear SVM: 97.69560557341907 %\n"
          ],
          "name": "stdout"
        }
      ]
    },
    {
      "cell_type": "code",
      "metadata": {
        "id": "8s3C1DCImBoc",
        "colab": {
          "base_uri": "https://localhost:8080/"
        },
        "outputId": "f981fbc9-4229-4cb5-ed10-55b5e9a7e6fb"
      },
      "source": [
        "from sklearn.metrics import classification_report\n",
        "print(classification_report(Y_test,y_predict_linear))"
      ],
      "execution_count": 15,
      "outputs": [
        {
          "output_type": "stream",
          "text": [
            "              precision    recall  f1-score   support\n",
            "\n",
            "           5       0.95      0.96      0.95       892\n",
            "           8       0.96      0.95      0.95       974\n",
            "\n",
            "    accuracy                           0.95      1866\n",
            "   macro avg       0.95      0.95      0.95      1866\n",
            "weighted avg       0.95      0.95      0.95      1866\n",
            "\n"
          ],
          "name": "stdout"
        }
      ]
    },
    {
      "cell_type": "code",
      "metadata": {
        "id": "7LHTbDqBEL5p"
      },
      "source": [
        "X = 2 * np.random.rand(100,1)\n",
        "y = 4 +3 * X+np.random.randn(100,1)"
      ],
      "execution_count": 24,
      "outputs": []
    },
    {
      "cell_type": "code",
      "metadata": {
        "id": "ZbwV2ynCDH96"
      },
      "source": [
        "%matplotlib inline\n",
        "# Gradient Descent\n",
        "def  cal_cost(theta,X,y):\n",
        "    '''\n",
        "    Calculates the cost for given X and Y. The following shows and example of a single dimensional X\n",
        "    theta = Vector of thetas \n",
        "    X     = Row of X's np.zeros((2,j))\n",
        "    y     = Actual y's np.zeros((2,1))\n",
        "    where:\n",
        "        j is the no of features\n",
        "    '''\n",
        "    m = len(y)\n",
        "    predictions = X.dot(theta)\n",
        "    cost = (1/2*m) * np.sum(np.square(predictions-y))\n",
        "    return cost"
      ],
      "execution_count": 25,
      "outputs": []
    },
    {
      "cell_type": "code",
      "metadata": {
        "id": "yxnpCOiODIDL"
      },
      "source": [
        "def gradient_descent(X,y,theta,learning_rate=0.01,iterations=100):\n",
        "    '''\n",
        "    X    = Matrix of X with added bias units\n",
        "    y    = Vector of Y\n",
        "    theta=Vector of thetas np.random.randn(j,1)\n",
        "    learning_rate \n",
        "    iterations = no of iterations\n",
        "    \n",
        "    Returns the final theta vector and array of cost history over no of iterations\n",
        "    '''\n",
        "    m = len(y)\n",
        "    cost_history = np.zeros(iterations)\n",
        "    theta_history = np.zeros((iterations,2))\n",
        "    for it in range(iterations):\n",
        "        prediction = np.dot(X,theta)\n",
        "        theta = theta -(1/m)*learning_rate*( X.T.dot((prediction - y)))\n",
        "        theta_history[it,:] =theta.T\n",
        "        cost_history[it]  = cal_cost(theta,X,y)\n",
        "        \n",
        "    return theta, cost_history, theta_history"
      ],
      "execution_count": 26,
      "outputs": []
    },
    {
      "cell_type": "code",
      "metadata": {
        "id": "4SeQSEVqDIGZ",
        "colab": {
          "base_uri": "https://localhost:8080/"
        },
        "outputId": "3fe9f265-94d8-4537-ba17-3ab856ffc0b3"
      },
      "source": [
        "lr =0.01\n",
        "n_iter = 1000\n",
        "theta = np.random.randn(2,1)\n",
        "X_b = np.c_[np.ones((len(X),1)),X]\n",
        "theta,cost_history,theta_history = gradient_descent(X_b,y,theta,lr,n_iter)\n",
        "print('Theta0:          {:0.3f},\\nTheta1:          {:0.3f}'.format(theta[0][0],theta[1][0]))\n",
        "print('Final cost/MSE:  {:0.3f}'.format(cost_history[-1]))"
      ],
      "execution_count": 27,
      "outputs": [
        {
          "output_type": "stream",
          "text": [
            "Theta0:          4.137,\n",
            "Theta1:          2.937\n",
            "Final cost/MSE:  5257.556\n"
          ],
          "name": "stdout"
        }
      ]
    },
    {
      "cell_type": "code",
      "metadata": {
        "id": "Ys16d3ppDIJM",
        "colab": {
          "base_uri": "https://localhost:8080/",
          "height": 496
        },
        "outputId": "62b17f22-b1e1-407e-ff91-cfe622339cf3"
      },
      "source": [
        "fig,ax = plt.subplots(figsize=(12,8))\n",
        "ax.set_ylabel('J(Theta)')\n",
        "ax.set_xlabel('Iterations')\n",
        "_=ax.plot(range(n_iter),cost_history,'b.')"
      ],
      "execution_count": 28,
      "outputs": [
        {
          "output_type": "display_data",
          "data": {
            "image/png": "[encoded data removed]",
            "text/plain": [
              "<Figure size 864x576 with 1 Axes>"
            ]
          },
          "metadata": {
            "tags": [],
            "needs_background": "light"
          }
        }
      ]
    },
    {
      "cell_type": "code",
      "metadata": {
        "id": "RsZQrOxnDngS"
      },
      "source": [
        ""
      ],
      "execution_count": null,
      "outputs": []
    }
  ]
}