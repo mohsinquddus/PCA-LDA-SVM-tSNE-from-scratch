{
  "nbformat": 4,
  "nbformat_minor": 0,
  "metadata": {
    "colab": {
      "name": "LDA from scratch .ipynb",
      "provenance": [],
      "collapsed_sections": []
    },
    "kernelspec": {
      "name": "python3",
      "display_name": "Python 3"
    }
  },
  "cells": [
    {
      "cell_type": "code",
      "metadata": {
        "colab": {
          "base_uri": "https://localhost:8080/"
        },
        "id": "cU4Ew16JDRZc",
        "outputId": "cc004aba-32ff-42f0-c671-c95278fa7b46"
      },
      "source": [
        "!pip install idx2numpy\n",
        "!pip install python_mnist\n",
        "import numpy as np\n",
        "import matplotlib.pyplot as plt\n",
        "from google.colab import drive\n",
        "from mnist import MNIST\n",
        "import idx2numpy"
      ],
      "execution_count": 1,
      "outputs": [
        {
          "output_type": "stream",
          "text": [
            "Collecting idx2numpy\n",
            "  Downloading https://files.pythonhosted.org/packages/7e/6b/80628f6cc2f44d80b27f1ef7b57b257ed4c73766113b77d13ad110c091b4/idx2numpy-1.2.3.tar.gz\n",
            "Requirement already satisfied: numpy in /usr/local/lib/python3.6/dist-packages (from idx2numpy) (1.19.5)\n",
            "Requirement already satisfied: six in /usr/local/lib/python3.6/dist-packages (from idx2numpy) (1.15.0)\n",
            "Building wheels for collected packages: idx2numpy\n",
            "  Building wheel for idx2numpy (setup.py) ... \u001b[?25l\u001b[?25hdone\n",
            "  Created wheel for idx2numpy: filename=idx2numpy-1.2.3-cp36-none-any.whl size=7905 sha256=be19eb6bd622542fb172bda885cb6122c1e15cf2979f523280539a2389a8811a\n",
            "  Stored in directory: /root/.cache/pip/wheels/7a/c1/da/284ce80a748fab898b8d1fa95468a386e7cf3b81da18511f9d\n",
            "Successfully built idx2numpy\n",
            "Installing collected packages: idx2numpy\n",
            "Successfully installed idx2numpy-1.2.3\n",
            "Collecting python_mnist\n",
            "  Downloading https://files.pythonhosted.org/packages/64/f0/6086b84427c3bf156ec0b3c2f9dfc1d770b35f942b9ed8a64f5229776a80/python_mnist-0.7-py2.py3-none-any.whl\n",
            "Installing collected packages: python-mnist\n",
            "Successfully installed python-mnist-0.7\n"
          ],
          "name": "stdout"
        }
      ]
    },
    {
      "cell_type": "code",
      "metadata": {
        "colab": {
          "base_uri": "https://localhost:8080/"
        },
        "id": "l79IVVLHDqiU",
        "outputId": "b3cf517c-b03c-4fe2-8e6d-cf38e1adbf72"
      },
      "source": [
        "drive.mount('/content/drive')"
      ],
      "execution_count": 2,
      "outputs": [
        {
          "output_type": "stream",
          "text": [
            "Mounted at /content/drive\n"
          ],
          "name": "stdout"
        }
      ]
    },
    {
      "cell_type": "code",
      "metadata": {
        "colab": {
          "base_uri": "https://localhost:8080/"
        },
        "id": "McObIb9bEHeU",
        "outputId": "c406a250-b506-4d1a-b6cb-b5f2a08bb48b"
      },
      "source": [
        "train_data=idx2numpy.convert_from_file('/content/drive/My Drive/MNIST/train-images-idx3-ubyte')\n",
        "train_data = np.reshape(train_data,(60000,28*28))\n",
        "train_label = idx2numpy.convert_from_file('/content/drive/My Drive/MNIST/train-labels-idx1-ubyte')\n",
        "print(train_data.shape)\n",
        "print(train_label.shape)"
      ],
      "execution_count": 3,
      "outputs": [
        {
          "output_type": "stream",
          "text": [
            "(60000, 784)\n",
            "(60000,)\n"
          ],
          "name": "stdout"
        }
      ]
    },
    {
      "cell_type": "code",
      "metadata": {
        "colab": {
          "base_uri": "https://localhost:8080/"
        },
        "id": "rzh31kdREHgf",
        "outputId": "f66544a5-06a3-4214-9e45-82325d158cf0"
      },
      "source": [
        "test_data=idx2numpy.convert_from_file('/content/drive/My Drive/MNIST/t10k-images-idx3-ubyte')\n",
        "test_data = np.reshape(test_data,(10000,28*28))\n",
        "test_label = idx2numpy.convert_from_file('/content/drive/My Drive/MNIST/t10k-labels-idx1-ubyte')\n",
        "print(test_data.shape)\n",
        "print(test_label.shape)"
      ],
      "execution_count": 4,
      "outputs": [
        {
          "output_type": "stream",
          "text": [
            "(10000, 784)\n",
            "(10000,)\n"
          ],
          "name": "stdout"
        }
      ]
    },
    {
      "cell_type": "code",
      "metadata": {
        "id": "YgB6KBmSEHjJ"
      },
      "source": [
        "mnist_loader = MNIST('/content/drive/My Drive/MNIST')\n",
        "train_data, train_label = mnist_loader.load_training()\n",
        "test_data, test_label = mnist_loader.load_testing()\n",
        "train_data = np.array(train_data)\n",
        "train_label = np.array(train_label)\n",
        "test_data = np.array(test_data)\n",
        "test_label = np.array(test_label)"
      ],
      "execution_count": 5,
      "outputs": []
    },
    {
      "cell_type": "code",
      "metadata": {
        "colab": {
          "base_uri": "https://localhost:8080/"
        },
        "id": "K2iBaahxERM9",
        "outputId": "7c76bd9e-e4b2-4367-9fc3-34223d455611"
      },
      "source": [
        "print(train_data.shape)\n",
        "print(train_label.shape)\n",
        "print(test_data.shape)\n",
        "print(test_label.shape)"
      ],
      "execution_count": 6,
      "outputs": [
        {
          "output_type": "stream",
          "text": [
            "(60000, 784)\n",
            "(60000,)\n",
            "(10000, 784)\n",
            "(10000,)\n"
          ],
          "name": "stdout"
        }
      ]
    },
    {
      "cell_type": "code",
      "metadata": {
        "colab": {
          "base_uri": "https://localhost:8080/"
        },
        "id": "6mRjz09mERO0",
        "outputId": "401cd81e-7051-48e7-cd1e-1b822338c8ed"
      },
      "source": [
        "train_data[train_label == 1].shape\n",
        "test_data[test_label == 1].shape"
      ],
      "execution_count": 7,
      "outputs": [
        {
          "output_type": "execute_result",
          "data": {
            "text/plain": [
              "(1135, 784)"
            ]
          },
          "metadata": {
            "tags": []
          },
          "execution_count": 7
        }
      ]
    },
    {
      "cell_type": "code",
      "metadata": {
        "colab": {
          "base_uri": "https://localhost:8080/"
        },
        "id": "aLvel496ERQm",
        "outputId": "05d725a0-4721-436c-a803-ce308b3ee082"
      },
      "source": [
        "#Gathering only 4,7,8 labels of data\n",
        "nx_train=[]\n",
        "ny_train=[]\n",
        "digit_1 = 0\n",
        "for i in range(len(train_data)):\n",
        "    if train_label[i] == 4 or train_label[i] == 7 or train_label[i] == 8:\n",
        "        nx_train.append(train_data[i])\n",
        "        ny_train.append(train_label[i])\n",
        "        digit_1 += 1\n",
        "nx_train=np.array(nx_train)\n",
        "ny_train=np.array(ny_train)\n",
        "\n",
        "print(len(nx_train))\n",
        "print(type(nx_train))\n",
        "print(len(ny_train))\n",
        "print(type(ny_train))\n",
        "print(digit_1)"
      ],
      "execution_count": 8,
      "outputs": [
        {
          "output_type": "stream",
          "text": [
            "17958\n",
            "<class 'numpy.ndarray'>\n",
            "17958\n",
            "<class 'numpy.ndarray'>\n",
            "17958\n"
          ],
          "name": "stdout"
        }
      ]
    },
    {
      "cell_type": "code",
      "metadata": {
        "colab": {
          "base_uri": "https://localhost:8080/"
        },
        "id": "1g2zfNUrERTc",
        "outputId": "882e3954-6d23-4d9a-9099-f33ca71d078d"
      },
      "source": [
        "nx_test=[]\n",
        "ny_test=[]\n",
        "digit_1 = 0\n",
        "for i in range(len(test_data)):\n",
        "    if test_label[i] == 4 or test_label[i] == 7 or train_label[i] == 8:\n",
        "        nx_test.append(test_data[i])\n",
        "        ny_test.append(test_label[i])\n",
        "        digit_1 += 1\n",
        "\n",
        "nx_test=np.array(nx_test)\n",
        "ny_test=np.array(ny_test)\n",
        "\n",
        "print(len(nx_test))\n",
        "print(type(nx_test))\n",
        "print(len(ny_test))\n",
        "print(type(ny_test))\n",
        "print(digit_1)"
      ],
      "execution_count": 9,
      "outputs": [
        {
          "output_type": "stream",
          "text": [
            "2771\n",
            "<class 'numpy.ndarray'>\n",
            "2771\n",
            "<class 'numpy.ndarray'>\n",
            "2771\n"
          ],
          "name": "stdout"
        }
      ]
    },
    {
      "cell_type": "code",
      "metadata": {
        "colab": {
          "base_uri": "https://localhost:8080/",
          "height": 335
        },
        "id": "m9hm0qHoDql1",
        "outputId": "b8cf3410-d380-4412-ef61-170a55c008f7"
      },
      "source": [
        "class LDA:\n",
        "    def __init__(self, n_components=None):\n",
        "        self.n_components = n_components\n",
        "        self.eig_vectors = None\n",
        "    \n",
        "    def transform(self,X,y):\n",
        "        height, width = X.shape\n",
        "        unique_classes = np.unique(y)\n",
        "        num_classes = len(unique_classes)\n",
        "        scatter_t = np.cov(X.T)*(height - 1)\n",
        "        scatter_w = 0\n",
        "        for i in range(num_classes):\n",
        "            class_items = np.flatnonzero(y == unique_classes[i])\n",
        "            scatter_w = scatter_w + np.cov(X[class_items].T) * (len(class_items)-1)\n",
        "        scatter_b = scatter_t - scatter_w\n",
        "        _, eig_vectors = np.linalg.eigh(np.linalg.pinv(scatter_w).dot(scatter_b))\n",
        "        print(eig_vectors.shape)\n",
        "        pc = X.dot(eig_vectors[:,::-1][:,:self.n_components])\n",
        "        print(pc.shape)\n",
        "        if self.n_components == 2:\n",
        "            if y is None:\n",
        "                plt.scatter(pc[:,0],pc[:,1])\n",
        "            else:\n",
        "                colors = ['r','g','b']\n",
        "                labels = np.unique(y)\n",
        "                for color, label in zip(colors, labels):\n",
        "                    class_data = pc[np.flatnonzero(y==label)]\n",
        "                    plt.scatter(class_data[:,0],class_data[:,1],c=color)\n",
        "            plt.show()\n",
        "        return pc\n",
        "\n",
        "X_train, X_test, Y_train, Y_test = nx_train,nx_test,ny_train,ny_test\n",
        "#The dimension of the output is necessarily less than the number of classes so possibile dimenshion are\n",
        "LDA_obj = LDA(n_components=2)\n",
        "LDA_object = LDA(n_components=2)\n",
        "X_train_modified = LDA_object.transform(X_train, Y_train)\n",
        "print(\"Original Data Size:\",X_train.shape, \"\\nModified Data Size:\", X_train_modified.shape)\n",
        "#The dimension of the output is necessarily less than the number of classes in the given condition \n",
        "#we have 4,7,8  which is 3 classes so highest number of output dimenshion  in this case we use is 2\n"
      ],
      "execution_count": 10,
      "outputs": [
        {
          "output_type": "stream",
          "text": [
            "(784, 784)\n",
            "(17958, 2)\n"
          ],
          "name": "stdout"
        },
        {
          "output_type": "display_data",
          "data": {
            "image/png": "[encoded data removed]",
            "text/plain": [
              "<Figure size 432x288 with 1 Axes>"
            ]
          },
          "metadata": {
            "tags": [],
            "needs_background": "light"
          }
        },
        {
          "output_type": "stream",
          "text": [
            "Original Data Size: (17958, 784) \n",
            "Modified Data Size: (17958, 2)\n"
          ],
          "name": "stdout"
        }
      ]
    }
  ]
}